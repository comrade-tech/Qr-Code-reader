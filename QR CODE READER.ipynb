{
 "cells": [
  {
   "cell_type": "code",
   "execution_count": 18,
   "id": "db9fe631",
   "metadata": {},
   "outputs": [
    {
     "name": "stdout",
     "output_type": "stream",
     "text": [
      "Defaulting to user installation because normal site-packages is not writeableNote: you may need to restart the kernel to use updated packages.\n",
      "\n",
      "Requirement already satisfied: opencv-python in c:\\users\\murali m\\appdata\\roaming\\python\\python311\\site-packages (4.8.0.76)\n",
      "Requirement already satisfied: numpy>=1.21.2 in c:\\programdata\\anaconda3\\lib\\site-packages (from opencv-python) (1.24.3)\n"
     ]
    }
   ],
   "source": [
    "pip install opencv-python\n",
    "#install the Package"
   ]
  },
  {
   "cell_type": "code",
   "execution_count": 23,
   "id": "023fb299",
   "metadata": {},
   "outputs": [],
   "source": [
    "import cv2\n",
    "#import the required library"
   ]
  },
  {
   "cell_type": "code",
   "execution_count": 29,
   "id": "d187f92d",
   "metadata": {},
   "outputs": [],
   "source": [
    "input = cv2.imread('2.PNG')\n",
    "# To Read the Qr Code"
   ]
  },
  {
   "cell_type": "code",
   "execution_count": 30,
   "id": "27e164c5",
   "metadata": {},
   "outputs": [],
   "source": [
    "qrDecoder = cv2.QRCodeDetector()\n",
    "#detect the qrcode\n",
    "\n",
    "data = qrDecoder.detectAndDecode(input)\n",
    "#detect and decode the qrcode"
   ]
  },
  {
   "cell_type": "code",
   "execution_count": 35,
   "id": "327483bd",
   "metadata": {},
   "outputs": [
    {
     "name": "stdout",
     "output_type": "stream",
     "text": [
      "decoded data : {} ('http://itunes.apple.com/us/app/encyclopaedia-britannica/id447919187?mt=8', array([[[  5.,   5.],\n",
      "        [219.,   5.],\n",
      "        [219., 219.],\n",
      "        [  5., 219.]]], dtype=float32), array([[  0,   0,   0, ...,   0,   0,   0],\n",
      "       [  0, 255, 255, ..., 255, 255,   0],\n",
      "       [  0, 255,   0, ...,   0, 255,   0],\n",
      "       ...,\n",
      "       [  0, 255,   0, ...,   0,   0,   0],\n",
      "       [  0, 255, 255, ..., 255, 255, 255],\n",
      "       [  0,   0,   0, ..., 255, 255,   0]], dtype=uint8))\n"
     ]
    }
   ],
   "source": [
    "if (data):\n",
    "    print(\"decoded data : {}\",data)\n",
    "else:\n",
    "    print(\"QR Code not detected\")\n",
    "    cv2.imshow(\"Results\",input)"
   ]
  }
 ],
 "metadata": {
  "kernelspec": {
   "display_name": "Python 3 (ipykernel)",
   "language": "python",
   "name": "python3"
  },
  "language_info": {
   "codemirror_mode": {
    "name": "ipython",
    "version": 3
   },
   "file_extension": ".py",
   "mimetype": "text/x-python",
   "name": "python",
   "nbconvert_exporter": "python",
   "pygments_lexer": "ipython3",
   "version": "3.11.3"
  }
 },
 "nbformat": 4,
 "nbformat_minor": 5
}
